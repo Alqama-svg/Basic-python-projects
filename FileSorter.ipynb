{
 "cells": [
  {
   "cell_type": "code",
   "execution_count": 5,
   "id": "4a22b679-273b-456f-af6d-b4d93dd954b1",
   "metadata": {},
   "outputs": [],
   "source": [
    "import os, shutil"
   ]
  },
  {
   "cell_type": "code",
   "execution_count": 59,
   "id": "1a503fa4-5ed8-4b25-9b6f-73910d2f59ac",
   "metadata": {},
   "outputs": [],
   "source": [
    "path = r\"C:/Users/Alqama/Documents/FileExp/\""
   ]
  },
  {
   "cell_type": "code",
   "execution_count": 61,
   "id": "2fbdb8a5-b97f-4687-89be-cb2c3f1fccad",
   "metadata": {},
   "outputs": [
    {
     "data": {
      "text/plain": [
       "['fakefile.txt',\n",
       " 'industry.csv',\n",
       " 'png-2702691_640.webp',\n",
       " 'pngimg.com - mario_PNG125.png']"
      ]
     },
     "execution_count": 61,
     "metadata": {},
     "output_type": "execute_result"
    }
   ],
   "source": [
    "os.listdir(path)  "
   ]
  },
  {
   "cell_type": "code",
   "execution_count": 63,
   "id": "34e2a5c2-6b59-49c6-a8d4-1f6ed70ba003",
   "metadata": {},
   "outputs": [
    {
     "name": "stdout",
     "output_type": "stream",
     "text": [
      "C:/Users/Alqama/Documents/FileExp/csv files\n",
      "C:/Users/Alqama/Documents/FileExp/image files\n",
      "C:/Users/Alqama/Documents/FileExp/text files\n"
     ]
    }
   ],
   "source": [
    "folder_names = ['csv files', 'image files', 'text files']\n",
    "\n",
    "for loop in range(0,3):\n",
    "    if not os.path.exists(path + folder_names[loop]):\n",
    "        print(path + folder_names[loop]) \n",
    "        os.makedirs(path + folder_names[loop])"
   ]
  },
  {
   "cell_type": "code",
   "execution_count": 69,
   "id": "0ad7aa76-17af-4acb-9c9a-d5df03abfdce",
   "metadata": {},
   "outputs": [],
   "source": [
    "for file in file_name:\n",
    "    if \".csv\" in file and not os.path.exists(path + \"csv files/\" + file):\n",
    "        shutil.move(path + file, path + \"csv files/\" + file)\n",
    "    elif \".png\" in file and not os.path.exists(path + \"image files/\" + file): \n",
    "        shutil.move(path + file, path + \"image files/\" + file)\n",
    "    elif \".txt\" in file and not os.path.exists(path + \"text files/\" + file): \n",
    "        shutil.move(path + file, path + \"text files/\" + file)  "
   ]
  },
  {
   "cell_type": "code",
   "execution_count": null,
   "id": "15465514-da8d-4b7f-b75e-2d5443963b2e",
   "metadata": {},
   "outputs": [],
   "source": [
    " "
   ]
  },
  {
   "cell_type": "code",
   "execution_count": null,
   "id": "e5c4b31f-33ff-4c2c-88ff-192b479fea96",
   "metadata": {},
   "outputs": [],
   "source": []
  },
  {
   "cell_type": "code",
   "execution_count": null,
   "id": "64a61655-6d86-4f1e-a920-58a7ca4617ba",
   "metadata": {},
   "outputs": [],
   "source": []
  },
  {
   "cell_type": "code",
   "execution_count": null,
   "id": "786f37a7-206b-4486-8288-6f7c3cb023e4",
   "metadata": {},
   "outputs": [],
   "source": []
  }
 ],
 "metadata": {
  "kernelspec": {
   "display_name": "Python 3 (ipykernel)",
   "language": "python",
   "name": "python3"
  },
  "language_info": {
   "codemirror_mode": {
    "name": "ipython",
    "version": 3
   },
   "file_extension": ".py",
   "mimetype": "text/x-python",
   "name": "python",
   "nbconvert_exporter": "python",
   "pygments_lexer": "ipython3",
   "version": "3.12.4"
  }
 },
 "nbformat": 4,
 "nbformat_minor": 5
}
